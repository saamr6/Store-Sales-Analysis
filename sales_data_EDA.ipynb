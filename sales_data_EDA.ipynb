{
 "cells": [
  {
   "cell_type": "code",
   "execution_count": 1,
   "id": "20b718f4-0054-46b9-92a9-443df12193fe",
   "metadata": {},
   "outputs": [],
   "source": [
    "import pandas as pd\n",
    "import matplotlib.pyplot as plt\n"
   ]
  },
  {
   "cell_type": "code",
   "execution_count": 2,
   "id": "832d8825-88ea-43ad-a28e-c005416a7dc6",
   "metadata": {},
   "outputs": [
    {
     "data": {
      "text/html": [
       "<div>\n",
       "<style scoped>\n",
       "    .dataframe tbody tr th:only-of-type {\n",
       "        vertical-align: middle;\n",
       "    }\n",
       "\n",
       "    .dataframe tbody tr th {\n",
       "        vertical-align: top;\n",
       "    }\n",
       "\n",
       "    .dataframe thead th {\n",
       "        text-align: right;\n",
       "    }\n",
       "</style>\n",
       "<table border=\"1\" class=\"dataframe\">\n",
       "  <thead>\n",
       "    <tr style=\"text-align: right;\">\n",
       "      <th></th>\n",
       "      <th>Order_Date</th>\n",
       "      <th>Gender</th>\n",
       "      <th>Product_Category</th>\n",
       "      <th>Product_Name</th>\n",
       "      <th>Quantity</th>\n",
       "      <th>Price</th>\n",
       "      <th>Total_Sales</th>\n",
       "      <th>City</th>\n",
       "      <th>Payment_Method</th>\n",
       "    </tr>\n",
       "  </thead>\n",
       "  <tbody>\n",
       "    <tr>\n",
       "      <th>0</th>\n",
       "      <td>2024-10-16</td>\n",
       "      <td>Male</td>\n",
       "      <td>Accessories</td>\n",
       "      <td>Bluetooth Speaker</td>\n",
       "      <td>1</td>\n",
       "      <td>115.87</td>\n",
       "      <td>115.87</td>\n",
       "      <td>Ismailia</td>\n",
       "      <td>Credit Card</td>\n",
       "    </tr>\n",
       "    <tr>\n",
       "      <th>1</th>\n",
       "      <td>2023-04-25</td>\n",
       "      <td>Female</td>\n",
       "      <td>Mobile</td>\n",
       "      <td>Galaxy Z</td>\n",
       "      <td>1</td>\n",
       "      <td>669.28</td>\n",
       "      <td>669.28</td>\n",
       "      <td>Tanta</td>\n",
       "      <td>COD</td>\n",
       "    </tr>\n",
       "    <tr>\n",
       "      <th>2</th>\n",
       "      <td>2023-01-26</td>\n",
       "      <td>Female</td>\n",
       "      <td>Mobile</td>\n",
       "      <td>iSmart S</td>\n",
       "      <td>3</td>\n",
       "      <td>303.87</td>\n",
       "      <td>911.61</td>\n",
       "      <td>Giza</td>\n",
       "      <td>COD</td>\n",
       "    </tr>\n",
       "    <tr>\n",
       "      <th>3</th>\n",
       "      <td>2025-01-29</td>\n",
       "      <td>Male</td>\n",
       "      <td>Accessories</td>\n",
       "      <td>NoiseCancel Headphones</td>\n",
       "      <td>2</td>\n",
       "      <td>100.92</td>\n",
       "      <td>201.84</td>\n",
       "      <td>Cairo</td>\n",
       "      <td>COD</td>\n",
       "    </tr>\n",
       "    <tr>\n",
       "      <th>4</th>\n",
       "      <td>2023-10-09</td>\n",
       "      <td>Male</td>\n",
       "      <td>Accessories</td>\n",
       "      <td>Wireless Charger</td>\n",
       "      <td>2</td>\n",
       "      <td>27.82</td>\n",
       "      <td>55.64</td>\n",
       "      <td>Ismailia</td>\n",
       "      <td>PayPal</td>\n",
       "    </tr>\n",
       "    <tr>\n",
       "      <th>...</th>\n",
       "      <td>...</td>\n",
       "      <td>...</td>\n",
       "      <td>...</td>\n",
       "      <td>...</td>\n",
       "      <td>...</td>\n",
       "      <td>...</td>\n",
       "      <td>...</td>\n",
       "      <td>...</td>\n",
       "      <td>...</td>\n",
       "    </tr>\n",
       "    <tr>\n",
       "      <th>198</th>\n",
       "      <td>2023-04-28</td>\n",
       "      <td>Female</td>\n",
       "      <td>Laptop</td>\n",
       "      <td>GamingPro 15</td>\n",
       "      <td>1</td>\n",
       "      <td>1264.58</td>\n",
       "      <td>1264.58</td>\n",
       "      <td>Tanta</td>\n",
       "      <td>Bank Transfer</td>\n",
       "    </tr>\n",
       "    <tr>\n",
       "      <th>199</th>\n",
       "      <td>2024-11-29</td>\n",
       "      <td>Female</td>\n",
       "      <td>Mobile</td>\n",
       "      <td>iSmart S</td>\n",
       "      <td>1</td>\n",
       "      <td>912.65</td>\n",
       "      <td>912.65</td>\n",
       "      <td>Aswan</td>\n",
       "      <td>Bank Transfer</td>\n",
       "    </tr>\n",
       "    <tr>\n",
       "      <th>200</th>\n",
       "      <td>2024-09-10</td>\n",
       "      <td>Male</td>\n",
       "      <td>Accessories</td>\n",
       "      <td>Bluetooth Speaker</td>\n",
       "      <td>1</td>\n",
       "      <td>126.43</td>\n",
       "      <td>126.43</td>\n",
       "      <td>Giza</td>\n",
       "      <td>Bank Transfer</td>\n",
       "    </tr>\n",
       "    <tr>\n",
       "      <th>201</th>\n",
       "      <td>2025-04-05</td>\n",
       "      <td>Male</td>\n",
       "      <td>Wearable</td>\n",
       "      <td>FitWatch X</td>\n",
       "      <td>1</td>\n",
       "      <td>292.88</td>\n",
       "      <td>292.88</td>\n",
       "      <td>Cairo</td>\n",
       "      <td>Credit Card</td>\n",
       "    </tr>\n",
       "    <tr>\n",
       "      <th>202</th>\n",
       "      <td>2024-08-26</td>\n",
       "      <td>Female</td>\n",
       "      <td>Accessories</td>\n",
       "      <td>Bluetooth Speaker</td>\n",
       "      <td>2</td>\n",
       "      <td>81.57</td>\n",
       "      <td>163.14</td>\n",
       "      <td>Tanta</td>\n",
       "      <td>Credit Card</td>\n",
       "    </tr>\n",
       "  </tbody>\n",
       "</table>\n",
       "<p>203 rows × 9 columns</p>\n",
       "</div>"
      ],
      "text/plain": [
       "     Order_Date  Gender Product_Category            Product_Name  Quantity  \\\n",
       "0    2024-10-16    Male      Accessories       Bluetooth Speaker         1   \n",
       "1    2023-04-25  Female           Mobile                Galaxy Z         1   \n",
       "2    2023-01-26  Female           Mobile                iSmart S         3   \n",
       "3    2025-01-29    Male      Accessories  NoiseCancel Headphones         2   \n",
       "4    2023-10-09    Male      Accessories        Wireless Charger         2   \n",
       "..          ...     ...              ...                     ...       ...   \n",
       "198  2023-04-28  Female           Laptop            GamingPro 15         1   \n",
       "199  2024-11-29  Female           Mobile                iSmart S         1   \n",
       "200  2024-09-10    Male      Accessories       Bluetooth Speaker         1   \n",
       "201  2025-04-05    Male         Wearable              FitWatch X         1   \n",
       "202  2024-08-26  Female      Accessories       Bluetooth Speaker         2   \n",
       "\n",
       "       Price  Total_Sales      City Payment_Method  \n",
       "0     115.87       115.87  Ismailia    Credit Card  \n",
       "1     669.28       669.28     Tanta            COD  \n",
       "2     303.87       911.61      Giza            COD  \n",
       "3     100.92       201.84     Cairo            COD  \n",
       "4      27.82        55.64  Ismailia         PayPal  \n",
       "..       ...          ...       ...            ...  \n",
       "198  1264.58      1264.58     Tanta  Bank Transfer  \n",
       "199   912.65       912.65     Aswan  Bank Transfer  \n",
       "200   126.43       126.43      Giza  Bank Transfer  \n",
       "201   292.88       292.88     Cairo    Credit Card  \n",
       "202    81.57       163.14     Tanta    Credit Card  \n",
       "\n",
       "[203 rows x 9 columns]"
      ]
     },
     "execution_count": 2,
     "metadata": {},
     "output_type": "execute_result"
    }
   ],
   "source": [
    "df=pd.read_csv(\"techwave_sales.csv\")\n",
    "df=df.drop(['Customer_ID','Order_ID'],axis=1)\n",
    "df"
   ]
  },
  {
   "cell_type": "code",
   "execution_count": 3,
   "id": "f38697b3-117e-4eb8-a657-ce14677c85df",
   "metadata": {},
   "outputs": [],
   "source": [
    "df['Order_Date']=pd.to_datetime(df['Order_Date'])"
   ]
  },
  {
   "cell_type": "code",
   "execution_count": 4,
   "id": "3e7eb928-1a0e-47e2-9c1d-61b7c3bd7b40",
   "metadata": {},
   "outputs": [
    {
     "data": {
      "text/plain": [
       "Order_Date          0\n",
       "Gender              0\n",
       "Product_Category    0\n",
       "Product_Name        0\n",
       "Quantity            0\n",
       "Price               1\n",
       "Total_Sales         0\n",
       "City                1\n",
       "Payment_Method      1\n",
       "dtype: int64"
      ]
     },
     "execution_count": 4,
     "metadata": {},
     "output_type": "execute_result"
    }
   ],
   "source": [
    "df.isna().sum() #number of nan"
   ]
  },
  {
   "cell_type": "code",
   "execution_count": 5,
   "id": "c2876256-9c97-4287-9ba2-d6adfe6e96a5",
   "metadata": {},
   "outputs": [
    {
     "data": {
      "text/html": [
       "<div>\n",
       "<style scoped>\n",
       "    .dataframe tbody tr th:only-of-type {\n",
       "        vertical-align: middle;\n",
       "    }\n",
       "\n",
       "    .dataframe tbody tr th {\n",
       "        vertical-align: top;\n",
       "    }\n",
       "\n",
       "    .dataframe thead th {\n",
       "        text-align: right;\n",
       "    }\n",
       "</style>\n",
       "<table border=\"1\" class=\"dataframe\">\n",
       "  <thead>\n",
       "    <tr style=\"text-align: right;\">\n",
       "      <th></th>\n",
       "      <th>Order_Date</th>\n",
       "      <th>Gender</th>\n",
       "      <th>Product_Category</th>\n",
       "      <th>Product_Name</th>\n",
       "      <th>Quantity</th>\n",
       "      <th>Price</th>\n",
       "      <th>Total_Sales</th>\n",
       "      <th>City</th>\n",
       "      <th>Payment_Method</th>\n",
       "    </tr>\n",
       "  </thead>\n",
       "  <tbody>\n",
       "    <tr>\n",
       "      <th>200</th>\n",
       "      <td>2024-09-10</td>\n",
       "      <td>Male</td>\n",
       "      <td>Accessories</td>\n",
       "      <td>Bluetooth Speaker</td>\n",
       "      <td>1</td>\n",
       "      <td>126.43</td>\n",
       "      <td>126.43</td>\n",
       "      <td>Giza</td>\n",
       "      <td>Bank Transfer</td>\n",
       "    </tr>\n",
       "    <tr>\n",
       "      <th>201</th>\n",
       "      <td>2025-04-05</td>\n",
       "      <td>Male</td>\n",
       "      <td>Wearable</td>\n",
       "      <td>FitWatch X</td>\n",
       "      <td>1</td>\n",
       "      <td>292.88</td>\n",
       "      <td>292.88</td>\n",
       "      <td>Cairo</td>\n",
       "      <td>Credit Card</td>\n",
       "    </tr>\n",
       "    <tr>\n",
       "      <th>202</th>\n",
       "      <td>2024-08-26</td>\n",
       "      <td>Female</td>\n",
       "      <td>Accessories</td>\n",
       "      <td>Bluetooth Speaker</td>\n",
       "      <td>2</td>\n",
       "      <td>81.57</td>\n",
       "      <td>163.14</td>\n",
       "      <td>Tanta</td>\n",
       "      <td>Credit Card</td>\n",
       "    </tr>\n",
       "  </tbody>\n",
       "</table>\n",
       "</div>"
      ],
      "text/plain": [
       "    Order_Date  Gender Product_Category       Product_Name  Quantity   Price  \\\n",
       "200 2024-09-10    Male      Accessories  Bluetooth Speaker         1  126.43   \n",
       "201 2025-04-05    Male         Wearable         FitWatch X         1  292.88   \n",
       "202 2024-08-26  Female      Accessories  Bluetooth Speaker         2   81.57   \n",
       "\n",
       "     Total_Sales   City Payment_Method  \n",
       "200       126.43   Giza  Bank Transfer  \n",
       "201       292.88  Cairo    Credit Card  \n",
       "202       163.14  Tanta    Credit Card  "
      ]
     },
     "execution_count": 5,
     "metadata": {},
     "output_type": "execute_result"
    }
   ],
   "source": [
    "df.duplicated().sum()\n",
    "df[df.duplicated()]"
   ]
  },
  {
   "cell_type": "code",
   "execution_count": 6,
   "id": "7a435b6a-9390-415c-83a7-be7868fdbecf",
   "metadata": {},
   "outputs": [
    {
     "data": {
      "text/html": [
       "<div>\n",
       "<style scoped>\n",
       "    .dataframe tbody tr th:only-of-type {\n",
       "        vertical-align: middle;\n",
       "    }\n",
       "\n",
       "    .dataframe tbody tr th {\n",
       "        vertical-align: top;\n",
       "    }\n",
       "\n",
       "    .dataframe thead th {\n",
       "        text-align: right;\n",
       "    }\n",
       "</style>\n",
       "<table border=\"1\" class=\"dataframe\">\n",
       "  <thead>\n",
       "    <tr style=\"text-align: right;\">\n",
       "      <th></th>\n",
       "      <th>Order_Date</th>\n",
       "      <th>Gender</th>\n",
       "      <th>Product_Category</th>\n",
       "      <th>Product_Name</th>\n",
       "      <th>Quantity</th>\n",
       "      <th>Price</th>\n",
       "      <th>Total_Sales</th>\n",
       "      <th>City</th>\n",
       "      <th>Payment_Method</th>\n",
       "    </tr>\n",
       "  </thead>\n",
       "  <tbody>\n",
       "    <tr>\n",
       "      <th>0</th>\n",
       "      <td>2024-10-16</td>\n",
       "      <td>Male</td>\n",
       "      <td>Accessories</td>\n",
       "      <td>Bluetooth Speaker</td>\n",
       "      <td>1</td>\n",
       "      <td>115.87</td>\n",
       "      <td>115.87</td>\n",
       "      <td>Ismailia</td>\n",
       "      <td>Credit Card</td>\n",
       "    </tr>\n",
       "    <tr>\n",
       "      <th>1</th>\n",
       "      <td>2023-04-25</td>\n",
       "      <td>Female</td>\n",
       "      <td>Mobile</td>\n",
       "      <td>Galaxy Z</td>\n",
       "      <td>1</td>\n",
       "      <td>669.28</td>\n",
       "      <td>669.28</td>\n",
       "      <td>Tanta</td>\n",
       "      <td>COD</td>\n",
       "    </tr>\n",
       "    <tr>\n",
       "      <th>2</th>\n",
       "      <td>2023-01-26</td>\n",
       "      <td>Female</td>\n",
       "      <td>Mobile</td>\n",
       "      <td>iSmart S</td>\n",
       "      <td>3</td>\n",
       "      <td>303.87</td>\n",
       "      <td>911.61</td>\n",
       "      <td>Giza</td>\n",
       "      <td>COD</td>\n",
       "    </tr>\n",
       "    <tr>\n",
       "      <th>3</th>\n",
       "      <td>2025-01-29</td>\n",
       "      <td>Male</td>\n",
       "      <td>Accessories</td>\n",
       "      <td>NoiseCancel Headphones</td>\n",
       "      <td>2</td>\n",
       "      <td>100.92</td>\n",
       "      <td>201.84</td>\n",
       "      <td>Cairo</td>\n",
       "      <td>COD</td>\n",
       "    </tr>\n",
       "    <tr>\n",
       "      <th>4</th>\n",
       "      <td>2023-10-09</td>\n",
       "      <td>Male</td>\n",
       "      <td>Accessories</td>\n",
       "      <td>Wireless Charger</td>\n",
       "      <td>2</td>\n",
       "      <td>27.82</td>\n",
       "      <td>55.64</td>\n",
       "      <td>Ismailia</td>\n",
       "      <td>PayPal</td>\n",
       "    </tr>\n",
       "    <tr>\n",
       "      <th>...</th>\n",
       "      <td>...</td>\n",
       "      <td>...</td>\n",
       "      <td>...</td>\n",
       "      <td>...</td>\n",
       "      <td>...</td>\n",
       "      <td>...</td>\n",
       "      <td>...</td>\n",
       "      <td>...</td>\n",
       "      <td>...</td>\n",
       "    </tr>\n",
       "    <tr>\n",
       "      <th>195</th>\n",
       "      <td>2023-01-12</td>\n",
       "      <td>Male</td>\n",
       "      <td>Accessories</td>\n",
       "      <td>Wireless Charger</td>\n",
       "      <td>2</td>\n",
       "      <td>75.99</td>\n",
       "      <td>151.98</td>\n",
       "      <td>Tanta</td>\n",
       "      <td>Credit Card</td>\n",
       "    </tr>\n",
       "    <tr>\n",
       "      <th>196</th>\n",
       "      <td>2024-11-27</td>\n",
       "      <td>Female</td>\n",
       "      <td>Mobile</td>\n",
       "      <td>iSmart S</td>\n",
       "      <td>1</td>\n",
       "      <td>766.58</td>\n",
       "      <td>766.58</td>\n",
       "      <td>Mansoura</td>\n",
       "      <td>COD</td>\n",
       "    </tr>\n",
       "    <tr>\n",
       "      <th>197</th>\n",
       "      <td>2025-01-08</td>\n",
       "      <td>Female</td>\n",
       "      <td>Mobile</td>\n",
       "      <td>PixelOne 6</td>\n",
       "      <td>1</td>\n",
       "      <td>438.40</td>\n",
       "      <td>438.40</td>\n",
       "      <td>Hurghada</td>\n",
       "      <td>Credit Card</td>\n",
       "    </tr>\n",
       "    <tr>\n",
       "      <th>198</th>\n",
       "      <td>2023-04-28</td>\n",
       "      <td>Female</td>\n",
       "      <td>Laptop</td>\n",
       "      <td>GamingPro 15</td>\n",
       "      <td>1</td>\n",
       "      <td>1264.58</td>\n",
       "      <td>1264.58</td>\n",
       "      <td>Tanta</td>\n",
       "      <td>Bank Transfer</td>\n",
       "    </tr>\n",
       "    <tr>\n",
       "      <th>199</th>\n",
       "      <td>2024-11-29</td>\n",
       "      <td>Female</td>\n",
       "      <td>Mobile</td>\n",
       "      <td>iSmart S</td>\n",
       "      <td>1</td>\n",
       "      <td>912.65</td>\n",
       "      <td>912.65</td>\n",
       "      <td>Aswan</td>\n",
       "      <td>Bank Transfer</td>\n",
       "    </tr>\n",
       "  </tbody>\n",
       "</table>\n",
       "<p>197 rows × 9 columns</p>\n",
       "</div>"
      ],
      "text/plain": [
       "    Order_Date  Gender Product_Category            Product_Name  Quantity  \\\n",
       "0   2024-10-16    Male      Accessories       Bluetooth Speaker         1   \n",
       "1   2023-04-25  Female           Mobile                Galaxy Z         1   \n",
       "2   2023-01-26  Female           Mobile                iSmart S         3   \n",
       "3   2025-01-29    Male      Accessories  NoiseCancel Headphones         2   \n",
       "4   2023-10-09    Male      Accessories        Wireless Charger         2   \n",
       "..         ...     ...              ...                     ...       ...   \n",
       "195 2023-01-12    Male      Accessories        Wireless Charger         2   \n",
       "196 2024-11-27  Female           Mobile                iSmart S         1   \n",
       "197 2025-01-08  Female           Mobile              PixelOne 6         1   \n",
       "198 2023-04-28  Female           Laptop            GamingPro 15         1   \n",
       "199 2024-11-29  Female           Mobile                iSmart S         1   \n",
       "\n",
       "       Price  Total_Sales      City Payment_Method  \n",
       "0     115.87       115.87  Ismailia    Credit Card  \n",
       "1     669.28       669.28     Tanta            COD  \n",
       "2     303.87       911.61      Giza            COD  \n",
       "3     100.92       201.84     Cairo            COD  \n",
       "4      27.82        55.64  Ismailia         PayPal  \n",
       "..       ...          ...       ...            ...  \n",
       "195    75.99       151.98     Tanta    Credit Card  \n",
       "196   766.58       766.58  Mansoura            COD  \n",
       "197   438.40       438.40  Hurghada    Credit Card  \n",
       "198  1264.58      1264.58     Tanta  Bank Transfer  \n",
       "199   912.65       912.65     Aswan  Bank Transfer  \n",
       "\n",
       "[197 rows x 9 columns]"
      ]
     },
     "execution_count": 6,
     "metadata": {},
     "output_type": "execute_result"
    }
   ],
   "source": [
    "df=df.dropna()\n",
    "df=df.drop_duplicates()\n",
    "df"
   ]
  },
  {
   "cell_type": "code",
   "execution_count": 7,
   "id": "e31eb180-7b2d-4fab-947c-304cf2ca5e7e",
   "metadata": {},
   "outputs": [
    {
     "data": {
      "text/plain": [
       "array(['Bluetooth Speaker', 'Galaxy Z', 'iSmart S',\n",
       "       'NoiseCancel Headphones', 'Wireless Charger', 'NoteTab 10',\n",
       "       'TabPro 11', 'UltraBook X14', 'WorkMate 13', 'PixelOne 6',\n",
       "       'FitWatch X', 'GamingPro 15', 'HealthBand 2'], dtype=object)"
      ]
     },
     "execution_count": 7,
     "metadata": {},
     "output_type": "execute_result"
    }
   ],
   "source": [
    "df['Product_Name'].unique()"
   ]
  },
  {
   "cell_type": "code",
   "execution_count": 8,
   "id": "dffab21d-7f0b-477d-a965-ef12ca5c3790",
   "metadata": {},
   "outputs": [
    {
     "name": "stdout",
     "output_type": "stream",
     "text": [
      "<class 'pandas.core.frame.DataFrame'>\n",
      "Index: 197 entries, 0 to 199\n",
      "Data columns (total 9 columns):\n",
      " #   Column            Non-Null Count  Dtype         \n",
      "---  ------            --------------  -----         \n",
      " 0   Order_Date        197 non-null    datetime64[ns]\n",
      " 1   Gender            197 non-null    object        \n",
      " 2   Product_Category  197 non-null    object        \n",
      " 3   Product_Name      197 non-null    object        \n",
      " 4   Quantity          197 non-null    int64         \n",
      " 5   Price             197 non-null    float64       \n",
      " 6   Total_Sales       197 non-null    float64       \n",
      " 7   City              197 non-null    object        \n",
      " 8   Payment_Method    197 non-null    object        \n",
      "dtypes: datetime64[ns](1), float64(2), int64(1), object(5)\n",
      "memory usage: 15.4+ KB\n"
     ]
    }
   ],
   "source": [
    "df.info()"
   ]
  },
  {
   "cell_type": "code",
   "execution_count": 58,
   "id": "b8fedaa1-72cf-46b4-81d6-0999126bfc93",
   "metadata": {
    "scrolled": true
   },
   "outputs": [
    {
     "data": {
      "text/plain": [
       "Text(0.5, 1.0, 'sales on each city')"
      ]
     },
     "execution_count": 58,
     "metadata": {},
     "output_type": "execute_result"
    },
    {
     "data": {
      "image/png": "[encoded data removed]",
      "text/plain": [
       "<Figure size 640x480 with 1 Axes>"
      ]
     },
     "metadata": {},
     "output_type": "display_data"
    }
   ],
   "source": [
    "df.groupby('City')['Total_Sales'].sum().sort_values(ascending=False).plot(kind='bar')\n",
    "plt.xticks(rotation=30)\n",
    "plt.show\n",
    "plt.title('sales on each city')"
   ]
  },
  {
   "cell_type": "code",
   "execution_count": 59,
   "id": "9624aeea-0fe4-4480-bcfb-8864c83ea5ec",
   "metadata": {},
   "outputs": [
    {
     "data": {
      "text/plain": [
       "Text(0.5, 1.0, 'top categories')"
      ]
     },
     "execution_count": 59,
     "metadata": {},
     "output_type": "execute_result"
    },
    {
     "data": {
      "image/png": "[encoded data removed]",
      "text/plain": [
       "<Figure size 640x480 with 1 Axes>"
      ]
     },
     "metadata": {},
     "output_type": "display_data"
    }
   ],
   "source": [
    "df.groupby('Product_Category')['Total_Sales'].sum().sort_values(ascending=False).plot(kind='bar')\n",
    "plt.xticks(rotation=0)\n",
    "plt.show\n",
    "plt.title('top categories')"
   ]
  },
  {
   "cell_type": "code",
   "execution_count": 60,
   "id": "d8203c3a-4713-4d69-8be7-e451b7e2720c",
   "metadata": {},
   "outputs": [
    {
     "data": {
      "text/plain": [
       "Text(0.5, 1.0, 'top five sellers')"
      ]
     },
     "execution_count": 60,
     "metadata": {},
     "output_type": "execute_result"
    },
    {
     "data": {
      "image/png": "[encoded data removed]",
      "text/plain": [
       "<Figure size 640x480 with 1 Axes>"
      ]
     },
     "metadata": {},
     "output_type": "display_data"
    }
   ],
   "source": [
    "df.groupby('Product_Name')['Total_Sales'].sum().sort_values(ascending=False).head().plot(kind='bar')\n",
    "plt.xticks(rotation=30)\n",
    "plt.show\n",
    "plt.title('top five sellers')"
   ]
  },
  {
   "cell_type": "code",
   "execution_count": 61,
   "id": "9f350084-df9c-433e-9e51-a363a4184341",
   "metadata": {},
   "outputs": [
    {
     "data": {
      "text/plain": [
       "Text(0.5, 1.0, 'which gender buy more')"
      ]
     },
     "execution_count": 61,
     "metadata": {},
     "output_type": "execute_result"
    },
    {
     "data": {
      "image/png": "[encoded data removed]",
      "text/plain": [
       "<Figure size 640x480 with 1 Axes>"
      ]
     },
     "metadata": {},
     "output_type": "display_data"
    }
   ],
   "source": [
    "df.groupby('Gender')['Total_Sales'].sum().sort_values(ascending=False).plot(kind='bar')\n",
    "plt.xticks(rotation=0)\n",
    "plt.show\n",
    "plt.title('which gender buy more')"
   ]
  },
  {
   "cell_type": "code",
   "execution_count": 18,
   "id": "4f021bca-e012-457c-b53c-89f38fd33dd0",
   "metadata": {},
   "outputs": [
    {
     "data": {
      "text/plain": [
       "Payment_Method\n",
       "Credit Card      96\n",
       "COD              39\n",
       "PayPal           37\n",
       "Bank Transfer    25\n",
       "Name: count, dtype: int64"
      ]
     },
     "execution_count": 18,
     "metadata": {},
     "output_type": "execute_result"
    }
   ],
   "source": [
    "df['Payment_Method'].value_counts()"
   ]
  },
  {
   "cell_type": "code",
   "execution_count": 19,
   "id": "1c7c885e-286b-41d7-8bc7-6f4b1417c9fe",
   "metadata": {},
   "outputs": [
    {
     "data": {
      "text/html": [
       "<div>\n",
       "<style scoped>\n",
       "    .dataframe tbody tr th:only-of-type {\n",
       "        vertical-align: middle;\n",
       "    }\n",
       "\n",
       "    .dataframe tbody tr th {\n",
       "        vertical-align: top;\n",
       "    }\n",
       "\n",
       "    .dataframe thead th {\n",
       "        text-align: right;\n",
       "    }\n",
       "</style>\n",
       "<table border=\"1\" class=\"dataframe\">\n",
       "  <thead>\n",
       "    <tr style=\"text-align: right;\">\n",
       "      <th></th>\n",
       "      <th>sum</th>\n",
       "      <th>mean</th>\n",
       "    </tr>\n",
       "    <tr>\n",
       "      <th>Payment_Method</th>\n",
       "      <th></th>\n",
       "      <th></th>\n",
       "    </tr>\n",
       "  </thead>\n",
       "  <tbody>\n",
       "    <tr>\n",
       "      <th>Credit Card</th>\n",
       "      <td>74380.34</td>\n",
       "      <td>774.795208</td>\n",
       "    </tr>\n",
       "    <tr>\n",
       "      <th>PayPal</th>\n",
       "      <td>30027.65</td>\n",
       "      <td>811.558108</td>\n",
       "    </tr>\n",
       "    <tr>\n",
       "      <th>COD</th>\n",
       "      <td>29800.37</td>\n",
       "      <td>764.112051</td>\n",
       "    </tr>\n",
       "    <tr>\n",
       "      <th>Bank Transfer</th>\n",
       "      <td>13309.09</td>\n",
       "      <td>532.363600</td>\n",
       "    </tr>\n",
       "  </tbody>\n",
       "</table>\n",
       "</div>"
      ],
      "text/plain": [
       "                     sum        mean\n",
       "Payment_Method                      \n",
       "Credit Card     74380.34  774.795208\n",
       "PayPal          30027.65  811.558108\n",
       "COD             29800.37  764.112051\n",
       "Bank Transfer   13309.09  532.363600"
      ]
     },
     "execution_count": 19,
     "metadata": {},
     "output_type": "execute_result"
    }
   ],
   "source": [
    "df.groupby('Payment_Method')['Total_Sales'].agg(['sum','mean']).sort_values(by='sum',ascending=False)"
   ]
  },
  {
   "cell_type": "code",
   "execution_count": 62,
   "id": "7159039d-9659-405d-8236-e50a9009f074",
   "metadata": {},
   "outputs": [
    {
     "data": {
      "text/plain": [
       "Text(0.5, 1.0, 'most preferred payment method')"
      ]
     },
     "execution_count": 62,
     "metadata": {},
     "output_type": "execute_result"
    },
    {
     "data": {
      "image/png": "[encoded data removed]",
      "text/plain": [
       "<Figure size 640x480 with 1 Axes>"
      ]
     },
     "metadata": {},
     "output_type": "display_data"
    }
   ],
   "source": [
    "df['Payment_Method'].value_counts().plot(kind='bar')\n",
    "plt.xticks(rotation=0)\n",
    "plt.show\n",
    "plt.title('most preferred payment method')"
   ]
  },
  {
   "cell_type": "code",
   "execution_count": 31,
   "id": "14f2b685-060c-4d77-a81d-d318fdabbfe6",
   "metadata": {},
   "outputs": [],
   "source": [
    "df['month']=df['Order_Date'].dt.month\n",
    "df['year']=df['Order_Date'].dt.year"
   ]
  },
  {
   "cell_type": "code",
   "execution_count": 64,
   "id": "e74055f1-ca31-4980-8505-f6feefea03eb",
   "metadata": {
    "scrolled": true
   },
   "outputs": [
    {
     "data": {
      "text/plain": [
       "Text(0.5, 1.0, 'most profitable months')"
      ]
     },
     "execution_count": 64,
     "metadata": {},
     "output_type": "execute_result"
    },
    {
     "data": {
      "image/png": "[encoded data removed]",
      "text/plain": [
       "<Figure size 640x480 with 1 Axes>"
      ]
     },
     "metadata": {},
     "output_type": "display_data"
    }
   ],
   "source": [
    "df.groupby('month')['Total_Sales'].agg('sum').sort_values(ascending=False).plot(kind='bar')\n",
    "plt.xticks(rotation=0)\n",
    "plt.show\n",
    "plt.title('most profitable months')"
   ]
  },
  {
   "cell_type": "code",
   "execution_count": 65,
   "id": "1086981a-f817-43c5-99a2-2e815b79ae26",
   "metadata": {},
   "outputs": [
    {
     "data": {
      "text/plain": [
       "Text(0.5, 1.0, 'highest revenue years')"
      ]
     },
     "execution_count": 65,
     "metadata": {},
     "output_type": "execute_result"
    },
    {
     "data": {
      "image/png": "[encoded data removed]",
      "text/plain": [
       "<Figure size 640x480 with 1 Axes>"
      ]
     },
     "metadata": {},
     "output_type": "display_data"
    }
   ],
   "source": [
    "df.groupby('year')['Total_Sales'].agg('sum').sort_values(ascending=False).plot(kind='bar')\n",
    "plt.xticks(rotation=0)\n",
    "plt.show\n",
    "plt.title('highest revenue years')"
   ]
  },
  {
   "cell_type": "code",
   "execution_count": 37,
   "id": "63262d58-6642-42cd-9ad4-8c512fece45e",
   "metadata": {},
   "outputs": [
    {
     "data": {
      "text/html": [
       "<div>\n",
       "<style scoped>\n",
       "    .dataframe tbody tr th:only-of-type {\n",
       "        vertical-align: middle;\n",
       "    }\n",
       "\n",
       "    .dataframe tbody tr th {\n",
       "        vertical-align: top;\n",
       "    }\n",
       "\n",
       "    .dataframe thead th {\n",
       "        text-align: right;\n",
       "    }\n",
       "</style>\n",
       "<table border=\"1\" class=\"dataframe\">\n",
       "  <thead>\n",
       "    <tr style=\"text-align: right;\">\n",
       "      <th></th>\n",
       "      <th>Order_Date</th>\n",
       "      <th>Gender</th>\n",
       "      <th>Product_Category</th>\n",
       "      <th>Product_Name</th>\n",
       "      <th>Quantity</th>\n",
       "      <th>Price</th>\n",
       "      <th>Total_Sales</th>\n",
       "      <th>City</th>\n",
       "      <th>Payment_Method</th>\n",
       "      <th>month</th>\n",
       "      <th>year</th>\n",
       "      <th>city_sales</th>\n",
       "    </tr>\n",
       "  </thead>\n",
       "  <tbody>\n",
       "    <tr>\n",
       "      <th>0</th>\n",
       "      <td>2024-10-16</td>\n",
       "      <td>Male</td>\n",
       "      <td>Accessories</td>\n",
       "      <td>Bluetooth Speaker</td>\n",
       "      <td>1</td>\n",
       "      <td>115.87</td>\n",
       "      <td>115.87</td>\n",
       "      <td>Ismailia</td>\n",
       "      <td>Credit Card</td>\n",
       "      <td>10</td>\n",
       "      <td>2024</td>\n",
       "      <td>15.639824</td>\n",
       "    </tr>\n",
       "    <tr>\n",
       "      <th>1</th>\n",
       "      <td>2023-04-25</td>\n",
       "      <td>Female</td>\n",
       "      <td>Mobile</td>\n",
       "      <td>Galaxy Z</td>\n",
       "      <td>1</td>\n",
       "      <td>669.28</td>\n",
       "      <td>669.28</td>\n",
       "      <td>Tanta</td>\n",
       "      <td>COD</td>\n",
       "      <td>4</td>\n",
       "      <td>2023</td>\n",
       "      <td>12.634668</td>\n",
       "    </tr>\n",
       "    <tr>\n",
       "      <th>2</th>\n",
       "      <td>2023-01-26</td>\n",
       "      <td>Female</td>\n",
       "      <td>Mobile</td>\n",
       "      <td>iSmart S</td>\n",
       "      <td>3</td>\n",
       "      <td>303.87</td>\n",
       "      <td>911.61</td>\n",
       "      <td>Giza</td>\n",
       "      <td>COD</td>\n",
       "      <td>1</td>\n",
       "      <td>2023</td>\n",
       "      <td>10.406633</td>\n",
       "    </tr>\n",
       "    <tr>\n",
       "      <th>3</th>\n",
       "      <td>2025-01-29</td>\n",
       "      <td>Male</td>\n",
       "      <td>Accessories</td>\n",
       "      <td>NoiseCancel Headphones</td>\n",
       "      <td>2</td>\n",
       "      <td>100.92</td>\n",
       "      <td>201.84</td>\n",
       "      <td>Cairo</td>\n",
       "      <td>COD</td>\n",
       "      <td>1</td>\n",
       "      <td>2025</td>\n",
       "      <td>17.062856</td>\n",
       "    </tr>\n",
       "    <tr>\n",
       "      <th>4</th>\n",
       "      <td>2023-10-09</td>\n",
       "      <td>Male</td>\n",
       "      <td>Accessories</td>\n",
       "      <td>Wireless Charger</td>\n",
       "      <td>2</td>\n",
       "      <td>27.82</td>\n",
       "      <td>55.64</td>\n",
       "      <td>Ismailia</td>\n",
       "      <td>PayPal</td>\n",
       "      <td>10</td>\n",
       "      <td>2023</td>\n",
       "      <td>15.639824</td>\n",
       "    </tr>\n",
       "    <tr>\n",
       "      <th>6</th>\n",
       "      <td>2023-08-17</td>\n",
       "      <td>Male</td>\n",
       "      <td>Tablet</td>\n",
       "      <td>NoteTab 10</td>\n",
       "      <td>1</td>\n",
       "      <td>362.21</td>\n",
       "      <td>362.21</td>\n",
       "      <td>Aswan</td>\n",
       "      <td>COD</td>\n",
       "      <td>8</td>\n",
       "      <td>2023</td>\n",
       "      <td>16.806751</td>\n",
       "    </tr>\n",
       "    <tr>\n",
       "      <th>7</th>\n",
       "      <td>2023-05-23</td>\n",
       "      <td>Female</td>\n",
       "      <td>Accessories</td>\n",
       "      <td>Bluetooth Speaker</td>\n",
       "      <td>3</td>\n",
       "      <td>82.80</td>\n",
       "      <td>248.40</td>\n",
       "      <td>Ismailia</td>\n",
       "      <td>Credit Card</td>\n",
       "      <td>5</td>\n",
       "      <td>2023</td>\n",
       "      <td>15.639824</td>\n",
       "    </tr>\n",
       "    <tr>\n",
       "      <th>8</th>\n",
       "      <td>2025-01-24</td>\n",
       "      <td>Female</td>\n",
       "      <td>Tablet</td>\n",
       "      <td>TabPro 11</td>\n",
       "      <td>3</td>\n",
       "      <td>698.37</td>\n",
       "      <td>2095.11</td>\n",
       "      <td>Tanta</td>\n",
       "      <td>PayPal</td>\n",
       "      <td>1</td>\n",
       "      <td>2025</td>\n",
       "      <td>12.634668</td>\n",
       "    </tr>\n",
       "    <tr>\n",
       "      <th>9</th>\n",
       "      <td>2023-04-15</td>\n",
       "      <td>Female</td>\n",
       "      <td>Accessories</td>\n",
       "      <td>NoiseCancel Headphones</td>\n",
       "      <td>2</td>\n",
       "      <td>57.35</td>\n",
       "      <td>114.70</td>\n",
       "      <td>Aswan</td>\n",
       "      <td>Credit Card</td>\n",
       "      <td>4</td>\n",
       "      <td>2023</td>\n",
       "      <td>16.806751</td>\n",
       "    </tr>\n",
       "    <tr>\n",
       "      <th>10</th>\n",
       "      <td>2024-11-23</td>\n",
       "      <td>Male</td>\n",
       "      <td>Accessories</td>\n",
       "      <td>Bluetooth Speaker</td>\n",
       "      <td>1</td>\n",
       "      <td>188.90</td>\n",
       "      <td>188.90</td>\n",
       "      <td>Giza</td>\n",
       "      <td>Credit Card</td>\n",
       "      <td>11</td>\n",
       "      <td>2024</td>\n",
       "      <td>10.406633</td>\n",
       "    </tr>\n",
       "  </tbody>\n",
       "</table>\n",
       "</div>"
      ],
      "text/plain": [
       "   Order_Date  Gender Product_Category            Product_Name  Quantity  \\\n",
       "0  2024-10-16    Male      Accessories       Bluetooth Speaker         1   \n",
       "1  2023-04-25  Female           Mobile                Galaxy Z         1   \n",
       "2  2023-01-26  Female           Mobile                iSmart S         3   \n",
       "3  2025-01-29    Male      Accessories  NoiseCancel Headphones         2   \n",
       "4  2023-10-09    Male      Accessories        Wireless Charger         2   \n",
       "6  2023-08-17    Male           Tablet              NoteTab 10         1   \n",
       "7  2023-05-23  Female      Accessories       Bluetooth Speaker         3   \n",
       "8  2025-01-24  Female           Tablet               TabPro 11         3   \n",
       "9  2023-04-15  Female      Accessories  NoiseCancel Headphones         2   \n",
       "10 2024-11-23    Male      Accessories       Bluetooth Speaker         1   \n",
       "\n",
       "     Price  Total_Sales      City Payment_Method  month  year  city_sales  \n",
       "0   115.87       115.87  Ismailia    Credit Card     10  2024   15.639824  \n",
       "1   669.28       669.28     Tanta            COD      4  2023   12.634668  \n",
       "2   303.87       911.61      Giza            COD      1  2023   10.406633  \n",
       "3   100.92       201.84     Cairo            COD      1  2025   17.062856  \n",
       "4    27.82        55.64  Ismailia         PayPal     10  2023   15.639824  \n",
       "6   362.21       362.21     Aswan            COD      8  2023   16.806751  \n",
       "7    82.80       248.40  Ismailia    Credit Card      5  2023   15.639824  \n",
       "8   698.37      2095.11     Tanta         PayPal      1  2025   12.634668  \n",
       "9    57.35       114.70     Aswan    Credit Card      4  2023   16.806751  \n",
       "10  188.90       188.90      Giza    Credit Card     11  2024   10.406633  "
      ]
     },
     "execution_count": 37,
     "metadata": {},
     "output_type": "execute_result"
    }
   ],
   "source": [
    "#add a new city sales column\n",
    "\n",
    "\n",
    "city_sales=(df.groupby('City')['Total_Sales'].sum() / df['Total_Sales'].sum()) * 100\n",
    "df['city_sales']=df['City'].map(city_sales)\n",
    "df.head(10)"
   ]
  }
 ],
 "metadata": {
  "kernelspec": {
   "display_name": "Python 3 (ipykernel)",
   "language": "python",
   "name": "python3"
  },
  "language_info": {
   "codemirror_mode": {
    "name": "ipython",
    "version": 3
   },
   "file_extension": ".py",
   "mimetype": "text/x-python",
   "name": "python",
   "nbconvert_exporter": "python",
   "pygments_lexer": "ipython3",
   "version": "3.13.5"
  }
 },
 "nbformat": 4,
 "nbformat_minor": 5
}
